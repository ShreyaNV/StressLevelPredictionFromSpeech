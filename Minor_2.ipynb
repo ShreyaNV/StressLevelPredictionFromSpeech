{
 "cells": [
  {
   "cell_type": "code",
   "execution_count": 1,
   "metadata": {},
   "outputs": [
    {
     "name": "stderr",
     "output_type": "stream",
     "text": [
      "/Users/shreyanandini/Desktop/Stress Level Detection From Speech/venv/lib/python3.9/site-packages/urllib3/__init__.py:35: NotOpenSSLWarning: urllib3 v2 only supports OpenSSL 1.1.1+, currently the 'ssl' module is compiled with 'LibreSSL 2.8.3'. See: https://github.com/urllib3/urllib3/issues/3020\n",
      "  warnings.warn(\n",
      "/Users/shreyanandini/Desktop/Stress Level Detection From Speech/venv/lib/python3.9/site-packages/tqdm/auto.py:21: TqdmWarning: IProgress not found. Please update jupyter and ipywidgets. See https://ipywidgets.readthedocs.io/en/stable/user_install.html\n",
      "  from .autonotebook import tqdm as notebook_tqdm\n"
     ]
    }
   ],
   "source": [
    "##########################################\n",
    "#  STEP 1. IMPORTS & GLOBAL CONFIG       #\n",
    "##########################################\n",
    "import os\n",
    "import numpy as np\n",
    "import pandas as pd\n",
    "import librosa\n",
    "import librosa.display\n",
    "import matplotlib.pyplot as plt\n",
    "\n",
    "import tensorflow as tf\n",
    "from tensorflow.keras import layers, models\n",
    "from sklearn.model_selection import train_test_split\n",
    "from sklearn.metrics import accuracy_score,classification_report, confusion_matrix, f1_score\n",
    "from tensorflow.keras.utils import to_categorical\n",
    "from tensorflow.keras.callbacks import EarlyStopping\n",
    "from sklearn.svm import SVC\n",
    "from sklearn.ensemble import RandomForestClassifier\n",
    "from tensorflow.keras.layers import Input, Conv2D, MaxPooling2D, Flatten, Dense, Dropout\n",
    "import pickle \n",
    "import speech_recognition as sr\n",
    "from transformers import BertTokenizer, BertModel, TFBertModel\n",
    "import torch\n",
    "import tensorflow_hub as hub\n",
    "\n",
    "# For reproducibility\n",
    "RANDOM_SEED = 42\n",
    "np.random.seed(RANDOM_SEED)\n",
    "tf.random.set_seed(RANDOM_SEED)"
   ]
  },
  {
   "cell_type": "code",
   "execution_count": 2,
   "metadata": {},
   "outputs": [
    {
     "name": "stdout",
     "output_type": "stream",
     "text": [
      "Total number of files: 1421\n"
     ]
    }
   ],
   "source": [
    "# Directory where your data is located (adjust as needed)\n",
    "BASE_DIR = r\"/Users/shreyanandini/Desktop/Stress Level Detection From Speech/Audio_Speech_Actors_01-24\"\n",
    "total_files = sum(len(files) for _, _, files in os.walk(BASE_DIR))\n",
    "\n",
    "print(f\"Total number of files: {total_files}\")"
   ]
  },
  {
   "cell_type": "code",
   "execution_count": null,
   "metadata": {},
   "outputs": [],
   "source": [
    "# ##########################################\n",
    "# #  STEP 2. DATA LOADING & LABELING       #\n",
    "# ##########################################\n",
    "# # We create a DataFrame to store metadata\n",
    "# data_df = pd.DataFrame(columns=['file_path', 'src', 'actor', 'gender', 'intensity', 'statement', 'repeat', 'emotion','transcript'])\n",
    "\n",
    "# # Check if the base directory exists\n",
    "# if not os.path.isdir(BASE_DIR):\n",
    "#     raise ValueError(f\"BASE_DIR does not exist: {BASE_DIR}\")\n",
    "\n",
    "# dir_list = os.listdir(BASE_DIR)\n",
    "# dir_list.sort()\n",
    "# count = 0\n",
    "# recognizer = sr.Recognizer()\n",
    "\n",
    "\n",
    "# for folder in dir_list:\n",
    "#     folder_path = os.path.join(BASE_DIR, folder)\n",
    "#     transcript = \"\"\n",
    "#     # If it's not a directory, skip\n",
    "#     if not os.path.isdir(folder_path):\n",
    "#         continue\n",
    "#     for f in os.listdir(folder_path):\n",
    "#         if not f.endswith('.wav'):\n",
    "#             continue      \n",
    "#         # Example filename pattern: \"03-01-01-01-01-01-01.wav\"\n",
    "#         nm = f.split('.')[0].split('-')         \n",
    "#         #try:\n",
    "#         emotion = int(nm[2])   \n",
    "#         src = int(nm[1])\n",
    "#         actor = int(nm[-1])\n",
    "#         emotion = int(nm[2])\n",
    "        \n",
    "#         if int(actor)%2 == 0:\n",
    "#             gender = \"female\"\n",
    "#         else:\n",
    "#             gender = \"male\"\n",
    "        \n",
    "#         if nm[3] == '01':\n",
    "#             intensity = 0\n",
    "#         else:\n",
    "#             intensity = 1\n",
    "        \n",
    "#         if nm[4] == '01':\n",
    "#             statement = 0\n",
    "#         else:\n",
    "#             statement = 1\n",
    "        \n",
    "#         if nm[5] == '01':\n",
    "#             repeat = 0\n",
    "#         else:\n",
    "#             repeat = 1\n",
    "#         file_path = os.path.join(folder_path, f)\n",
    "#         try:\n",
    "#             with sr.AudioFile(file_path) as source:\n",
    "#                 data = recognizer.record(source)\n",
    "#                 transcript = recognizer.recognize_google(data, key=None)\n",
    "#             #print(\"Transcript:\", transcript)\n",
    "#         except Exception as e:\n",
    "#             print(\"Error during transcription:\", e)\n",
    "#             transcript = \"Could not process audio transcription.\"\n",
    "#             # except (IndexError, ValueError) as e:\n",
    "#             #     print(f\"Skipping file (naming mismatch): {f}\")\n",
    "#             #     continue\n",
    "#             #print(file_path)\n",
    "#             #Ensuring the .wav file exists\n",
    "#         if os.path.isfile(file_path):\n",
    "#             data_df.loc[count] = [file_path, src, actor, gender, intensity, statement, repeat, emotion,transcript]\n",
    "#             count += 1\n",
    "#         else:\n",
    "#             print(f\"File not found: {file_path}\")"
   ]
  },
  {
   "cell_type": "code",
   "execution_count": 2,
   "metadata": {},
   "outputs": [],
   "source": [
    "#data_df.to_csv(\"audio_to_transcript.csv\")\n",
    "data_df = pd.read_csv(\"/Users/shreyanandini/Desktop/Stress Level Detection From Speech/audio_to_transcript.csv\")"
   ]
  },
  {
   "cell_type": "code",
   "execution_count": null,
   "metadata": {},
   "outputs": [],
   "source": [
    "# for i in range(len(data_df)):\n",
    "#     if data_df.emotion[i] == 1:\n",
    "#         lb = \"_neutral\"\n",
    "#     elif data_df.emotion[i] == 2:\n",
    "#         lb = \"_calm\"\n",
    "#     elif data_df.emotion[i] == 3:\n",
    "#         lb = \"_happy\"\n",
    "#     elif data_df.emotion[i] == 4:\n",
    "#         lb = \"_sad\"\n",
    "#     elif data_df.emotion[i] == 5:\n",
    "#         lb = \"_angry\"\n",
    "#     elif data_df.emotion[i] == 6:\n",
    "#         lb = \"_fearful\"\n",
    "#     elif data_df.emotion[i] == 7:\n",
    "#         lb = \"_disgust\"\n",
    "#     elif data_df.emotion[i] == 8:\n",
    "#         lb = \"_surprised\""
   ]
  },
  {
   "cell_type": "code",
   "execution_count": 3,
   "metadata": {},
   "outputs": [
    {
     "name": "stdout",
     "output_type": "stream",
     "text": [
      "   Unnamed: 0.1  Unnamed: 0  \\\n",
      "0             0          51   \n",
      "1             1         289   \n",
      "2             2         677   \n",
      "3             3        1005   \n",
      "4             4         367   \n",
      "\n",
      "                                           file_path  src  actor  gender  \\\n",
      "0  /Users/shreyanandini/Desktop/Stress Level Dete...    1      1    male   \n",
      "1  /Users/shreyanandini/Desktop/Stress Level Dete...    1      5    male   \n",
      "2  /Users/shreyanandini/Desktop/Stress Level Dete...    1     12  female   \n",
      "3  /Users/shreyanandini/Desktop/Stress Level Dete...    1     18  female   \n",
      "4  /Users/shreyanandini/Desktop/Stress Level Dete...    1      7    male   \n",
      "\n",
      "   intensity  statement  repeat  emotion                    transcript  \\\n",
      "0          1          1       1        6  dogs are sitting by the door   \n",
      "1          0          0       1        1  kids are talking by the door   \n",
      "2          0          0       0        4  kids are talking by the door   \n",
      "3          0          0       1        6   can you talking by the door   \n",
      "4          0          1       1        6  dogs are sitting by the door   \n",
      "\n",
      "   stress_label  \n",
      "0             2  \n",
      "1             0  \n",
      "2             2  \n",
      "3             2  \n",
      "4             2  \n",
      "Total files: 1420\n"
     ]
    }
   ],
   "source": [
    "def map_emotion_to_stress(e):\n",
    "    \"\"\"\n",
    "    In your dataset, 4/6 = high stress -> 2, \n",
    "                     5/7 = low stress -> 1,\n",
    "                    else 0 = no stress\n",
    "    \"\"\"\n",
    "    if e in [4,6]:\n",
    "        return 2\n",
    "    elif e in [5,7]:\n",
    "        return 1\n",
    "    else:\n",
    "        return 0\n",
    "\n",
    "data_df['stress_label'] = data_df['emotion'].apply(map_emotion_to_stress)\n",
    "\n",
    "print(data_df.head())\n",
    "print(\"Total files:\", len(data_df))\n",
    "\n",
    "# Shuffle dataframe\n",
    "data_df = data_df.sample(frac=1.0, random_state=RANDOM_SEED).reset_index(drop=True)"
   ]
  },
  {
   "cell_type": "code",
   "execution_count": 4,
   "metadata": {},
   "outputs": [
    {
     "name": "stdout",
     "output_type": "stream",
     "text": [
      "Train size: 1136, Val size: 142, Test size: 142\n"
     ]
    }
   ],
   "source": [
    "##########################################\n",
    "#  STEP 3. TRAIN/VAL/TEST SPLIT          #\n",
    "##########################################\n",
    "# Splitting data_df into Training and Temporary Sets(temp_df)\n",
    "train_df, temp_df = train_test_split(\n",
    "    data_df,\n",
    "    test_size=0.2,\n",
    "    stratify=data_df['stress_label'],\n",
    "    random_state=RANDOM_SEED\n",
    ")\n",
    "# Splitting the Temporary Set into Validation and Test Sets\n",
    "val_df, test_df = train_test_split(\n",
    "    temp_df,\n",
    "    test_size=0.5,\n",
    "    stratify=temp_df['stress_label'],\n",
    "    random_state=RANDOM_SEED\n",
    ")\n",
    "\n",
    "print(f\"Train size: {len(train_df)}, Val size: {len(val_df)}, Test size: {len(test_df)}\")"
   ]
  },
  {
   "cell_type": "code",
   "execution_count": 5,
   "metadata": {},
   "outputs": [],
   "source": [
    "##########################################\n",
    "#  STEP 4. FEATURE EXTRACTION (MFCC)     #\n",
    "##########################################\n",
    "SAMPLE_RATE = 16000       # or 22050\n",
    "MAX_DURATION_SEC = 120.0    # we’ll pad/truncate to 5s\n",
    "N_MFCC = 40\n",
    "FIXED_FRAMES = 200        # number of frames along time axis\n",
    "tokenizer = BertTokenizer.from_pretrained('bert-base-uncased')\n",
    "bert_model = BertModel.from_pretrained('bert-base-uncased')\n",
    "\n",
    "def load_audio(file_path, sr=SAMPLE_RATE, max_duration=MAX_DURATION_SEC):\n",
    "    # Load up to max_duration seconds\n",
    "    y, sr = librosa.load(file_path, sr=sr, duration=max_duration)\n",
    "    return y, sr\n",
    "\n",
    "def extract_mfcc(file_path, sr=SAMPLE_RATE, n_mfcc=N_MFCC):\n",
    "    y, sr = load_audio(file_path, sr=sr, max_duration=MAX_DURATION_SEC)\n",
    "    mfcc = librosa.feature.mfcc(y=y, sr=sr, n_mfcc=n_mfcc)  # shape: (n_mfcc, time_frames)\n",
    "    # Pad or truncate to FIXED_FRAMES along the time axis\n",
    "    if mfcc.shape[1] < FIXED_FRAMES:\n",
    "        pad_width = FIXED_FRAMES - mfcc.shape[1]\n",
    "        mfcc = np.pad(mfcc, ((0,0), (0,pad_width)), mode='constant')\n",
    "    else:\n",
    "        mfcc = mfcc[:, :FIXED_FRAMES]\n",
    "   \n",
    "    return mfcc\n",
    "def extract_bert_embedding(text):\n",
    "    if not text or text == \"Could not process audio transcription.\":\n",
    "        return np.zeros((768,))\n",
    "    tokens = tokenizer(text, return_tensors=\"pt\", padding=True, truncation=True, max_length=512)\n",
    "    with torch.no_grad():\n",
    "        outputs = bert_model(**tokens)\n",
    "    return outputs.last_hidden_state[:, 0, :].squeeze().numpy()\n",
    "\n",
    "def build_features_and_labels(df):\n",
    "    X_audio_list, X_text_list, y_list = [], [], []\n",
    "    for _, row in df.iterrows():\n",
    "        file_path = row['file_path']\n",
    "        transcript = row['transcript']\n",
    "        label = row['stress_label']\n",
    "\n",
    "        if not os.path.isfile(file_path):\n",
    "            continue\n",
    "\n",
    "        mfcc = extract_mfcc(file_path)\n",
    "        mfcc = np.expand_dims(mfcc, axis=-1)\n",
    "        bert_embedding = extract_bert_embedding(transcript)\n",
    "\n",
    "        X_audio_list.append(mfcc)\n",
    "        X_text_list.append(bert_embedding)\n",
    "        y_list.append(label)\n",
    "\n",
    "    X_audio_arr = np.array(X_audio_list, dtype=np.float32)\n",
    "    X_text_arr = np.array(X_text_list, dtype=np.float32)\n",
    "    y_arr = np.array(y_list, dtype=np.int64)\n",
    "\n",
    "    return X_audio_arr, X_text_arr, y_arr\n",
    "\n",
    "X_train_audio, X_train_text, y_train = build_features_and_labels(train_df)\n",
    "X_val_audio, X_val_text, y_val = build_features_and_labels(val_df)\n",
    "X_test_audio, X_test_text, y_test = build_features_and_labels(test_df)"
   ]
  },
  {
   "cell_type": "code",
   "execution_count": null,
   "metadata": {},
   "outputs": [],
   "source": [
    "##########################################\n",
    "#  STEP 5. BUILD THE CNN MODEL           #\n",
    "##########################################\n",
    "# num_classes = 3  # no-stress, low-stress, high-stress\n",
    "# model = models.Sequential([\n",
    "#     layers.Conv2D(filters=16, kernel_size=(3,3), activation='relu',\n",
    "#                   input_shape=(N_MFCC, FIXED_FRAMES, 1)),\n",
    "#     layers.MaxPooling2D(pool_size=(2,2)),\n",
    "   \n",
    "#     layers.Conv2D(filters=32, kernel_size=(3,3), activation='relu'),\n",
    "#     layers.MaxPooling2D(pool_size=(2,2)),\n",
    "   \n",
    "#     layers.Flatten(),\n",
    "#     layers.Dense(64, activation='relu'),\n",
    "#     layers.Dropout(0.3),\n",
    "#     layers.Dense(num_classes, activation='softmax')\n",
    "# ])\n",
    "# model.compile(\n",
    "#     optimizer='adam',\n",
    "#     loss='sparse_categorical_crossentropy',\n",
    "#     metrics=['accuracy']\n",
    "# )\n",
    "# model.summary()"
   ]
  },
  {
   "cell_type": "code",
   "execution_count": 6,
   "metadata": {},
   "outputs": [
    {
     "data": {
      "text/html": [
       "<pre style=\"white-space:pre;overflow-x:auto;line-height:normal;font-family:Menlo,'DejaVu Sans Mono',consolas,'Courier New',monospace\"><span style=\"font-weight: bold\">Model: \"functional\"</span>\n",
       "</pre>\n"
      ],
      "text/plain": [
       "\u001b[1mModel: \"functional\"\u001b[0m\n"
      ]
     },
     "metadata": {},
     "output_type": "display_data"
    },
    {
     "data": {
      "text/html": [
       "<pre style=\"white-space:pre;overflow-x:auto;line-height:normal;font-family:Menlo,'DejaVu Sans Mono',consolas,'Courier New',monospace\">┏━━━━━━━━━━━━━━━━━━━━━┳━━━━━━━━━━━━━━━━━━━┳━━━━━━━━━━━━┳━━━━━━━━━━━━━━━━━━━┓\n",
       "┃<span style=\"font-weight: bold\"> Layer (type)        </span>┃<span style=\"font-weight: bold\"> Output Shape      </span>┃<span style=\"font-weight: bold\">    Param # </span>┃<span style=\"font-weight: bold\"> Connected to      </span>┃\n",
       "┡━━━━━━━━━━━━━━━━━━━━━╇━━━━━━━━━━━━━━━━━━━╇━━━━━━━━━━━━╇━━━━━━━━━━━━━━━━━━━┩\n",
       "│ audio_input         │ (<span style=\"color: #00d7ff; text-decoration-color: #00d7ff\">None</span>, <span style=\"color: #00af00; text-decoration-color: #00af00\">40</span>, <span style=\"color: #00af00; text-decoration-color: #00af00\">200</span>,   │          <span style=\"color: #00af00; text-decoration-color: #00af00\">0</span> │ -                 │\n",
       "│ (<span style=\"color: #0087ff; text-decoration-color: #0087ff\">InputLayer</span>)        │ <span style=\"color: #00af00; text-decoration-color: #00af00\">1</span>)                │            │                   │\n",
       "├─────────────────────┼───────────────────┼────────────┼───────────────────┤\n",
       "│ conv2d (<span style=\"color: #0087ff; text-decoration-color: #0087ff\">Conv2D</span>)     │ (<span style=\"color: #00d7ff; text-decoration-color: #00d7ff\">None</span>, <span style=\"color: #00af00; text-decoration-color: #00af00\">38</span>, <span style=\"color: #00af00; text-decoration-color: #00af00\">198</span>,   │        <span style=\"color: #00af00; text-decoration-color: #00af00\">160</span> │ audio_input[<span style=\"color: #00af00; text-decoration-color: #00af00\">0</span>][<span style=\"color: #00af00; text-decoration-color: #00af00\">0</span>] │\n",
       "│                     │ <span style=\"color: #00af00; text-decoration-color: #00af00\">16</span>)               │            │                   │\n",
       "├─────────────────────┼───────────────────┼────────────┼───────────────────┤\n",
       "│ max_pooling2d       │ (<span style=\"color: #00d7ff; text-decoration-color: #00d7ff\">None</span>, <span style=\"color: #00af00; text-decoration-color: #00af00\">19</span>, <span style=\"color: #00af00; text-decoration-color: #00af00\">99</span>,    │          <span style=\"color: #00af00; text-decoration-color: #00af00\">0</span> │ conv2d[<span style=\"color: #00af00; text-decoration-color: #00af00\">0</span>][<span style=\"color: #00af00; text-decoration-color: #00af00\">0</span>]      │\n",
       "│ (<span style=\"color: #0087ff; text-decoration-color: #0087ff\">MaxPooling2D</span>)      │ <span style=\"color: #00af00; text-decoration-color: #00af00\">16</span>)               │            │                   │\n",
       "├─────────────────────┼───────────────────┼────────────┼───────────────────┤\n",
       "│ conv2d_1 (<span style=\"color: #0087ff; text-decoration-color: #0087ff\">Conv2D</span>)   │ (<span style=\"color: #00d7ff; text-decoration-color: #00d7ff\">None</span>, <span style=\"color: #00af00; text-decoration-color: #00af00\">17</span>, <span style=\"color: #00af00; text-decoration-color: #00af00\">97</span>,    │      <span style=\"color: #00af00; text-decoration-color: #00af00\">4,640</span> │ max_pooling2d[<span style=\"color: #00af00; text-decoration-color: #00af00\">0</span>]… │\n",
       "│                     │ <span style=\"color: #00af00; text-decoration-color: #00af00\">32</span>)               │            │                   │\n",
       "├─────────────────────┼───────────────────┼────────────┼───────────────────┤\n",
       "│ text_input          │ (<span style=\"color: #00d7ff; text-decoration-color: #00d7ff\">None</span>, <span style=\"color: #00af00; text-decoration-color: #00af00\">768</span>)       │          <span style=\"color: #00af00; text-decoration-color: #00af00\">0</span> │ -                 │\n",
       "│ (<span style=\"color: #0087ff; text-decoration-color: #0087ff\">InputLayer</span>)        │                   │            │                   │\n",
       "├─────────────────────┼───────────────────┼────────────┼───────────────────┤\n",
       "│ max_pooling2d_1     │ (<span style=\"color: #00d7ff; text-decoration-color: #00d7ff\">None</span>, <span style=\"color: #00af00; text-decoration-color: #00af00\">8</span>, <span style=\"color: #00af00; text-decoration-color: #00af00\">48</span>, <span style=\"color: #00af00; text-decoration-color: #00af00\">32</span>) │          <span style=\"color: #00af00; text-decoration-color: #00af00\">0</span> │ conv2d_1[<span style=\"color: #00af00; text-decoration-color: #00af00\">0</span>][<span style=\"color: #00af00; text-decoration-color: #00af00\">0</span>]    │\n",
       "│ (<span style=\"color: #0087ff; text-decoration-color: #0087ff\">MaxPooling2D</span>)      │                   │            │                   │\n",
       "├─────────────────────┼───────────────────┼────────────┼───────────────────┤\n",
       "│ dense (<span style=\"color: #0087ff; text-decoration-color: #0087ff\">Dense</span>)       │ (<span style=\"color: #00d7ff; text-decoration-color: #00d7ff\">None</span>, <span style=\"color: #00af00; text-decoration-color: #00af00\">128</span>)       │     <span style=\"color: #00af00; text-decoration-color: #00af00\">98,432</span> │ text_input[<span style=\"color: #00af00; text-decoration-color: #00af00\">0</span>][<span style=\"color: #00af00; text-decoration-color: #00af00\">0</span>]  │\n",
       "├─────────────────────┼───────────────────┼────────────┼───────────────────┤\n",
       "│ flatten (<span style=\"color: #0087ff; text-decoration-color: #0087ff\">Flatten</span>)   │ (<span style=\"color: #00d7ff; text-decoration-color: #00d7ff\">None</span>, <span style=\"color: #00af00; text-decoration-color: #00af00\">12288</span>)     │          <span style=\"color: #00af00; text-decoration-color: #00af00\">0</span> │ max_pooling2d_1[<span style=\"color: #00af00; text-decoration-color: #00af00\">…</span> │\n",
       "├─────────────────────┼───────────────────┼────────────┼───────────────────┤\n",
       "│ dropout (<span style=\"color: #0087ff; text-decoration-color: #0087ff\">Dropout</span>)   │ (<span style=\"color: #00d7ff; text-decoration-color: #00d7ff\">None</span>, <span style=\"color: #00af00; text-decoration-color: #00af00\">128</span>)       │          <span style=\"color: #00af00; text-decoration-color: #00af00\">0</span> │ dense[<span style=\"color: #00af00; text-decoration-color: #00af00\">0</span>][<span style=\"color: #00af00; text-decoration-color: #00af00\">0</span>]       │\n",
       "├─────────────────────┼───────────────────┼────────────┼───────────────────┤\n",
       "│ concatenate         │ (<span style=\"color: #00d7ff; text-decoration-color: #00d7ff\">None</span>, <span style=\"color: #00af00; text-decoration-color: #00af00\">12416</span>)     │          <span style=\"color: #00af00; text-decoration-color: #00af00\">0</span> │ flatten[<span style=\"color: #00af00; text-decoration-color: #00af00\">0</span>][<span style=\"color: #00af00; text-decoration-color: #00af00\">0</span>],    │\n",
       "│ (<span style=\"color: #0087ff; text-decoration-color: #0087ff\">Concatenate</span>)       │                   │            │ dropout[<span style=\"color: #00af00; text-decoration-color: #00af00\">0</span>][<span style=\"color: #00af00; text-decoration-color: #00af00\">0</span>]     │\n",
       "├─────────────────────┼───────────────────┼────────────┼───────────────────┤\n",
       "│ dense_1 (<span style=\"color: #0087ff; text-decoration-color: #0087ff\">Dense</span>)     │ (<span style=\"color: #00d7ff; text-decoration-color: #00d7ff\">None</span>, <span style=\"color: #00af00; text-decoration-color: #00af00\">64</span>)        │    <span style=\"color: #00af00; text-decoration-color: #00af00\">794,688</span> │ concatenate[<span style=\"color: #00af00; text-decoration-color: #00af00\">0</span>][<span style=\"color: #00af00; text-decoration-color: #00af00\">0</span>] │\n",
       "├─────────────────────┼───────────────────┼────────────┼───────────────────┤\n",
       "│ dropout_1 (<span style=\"color: #0087ff; text-decoration-color: #0087ff\">Dropout</span>) │ (<span style=\"color: #00d7ff; text-decoration-color: #00d7ff\">None</span>, <span style=\"color: #00af00; text-decoration-color: #00af00\">64</span>)        │          <span style=\"color: #00af00; text-decoration-color: #00af00\">0</span> │ dense_1[<span style=\"color: #00af00; text-decoration-color: #00af00\">0</span>][<span style=\"color: #00af00; text-decoration-color: #00af00\">0</span>]     │\n",
       "├─────────────────────┼───────────────────┼────────────┼───────────────────┤\n",
       "│ dense_2 (<span style=\"color: #0087ff; text-decoration-color: #0087ff\">Dense</span>)     │ (<span style=\"color: #00d7ff; text-decoration-color: #00d7ff\">None</span>, <span style=\"color: #00af00; text-decoration-color: #00af00\">3</span>)         │        <span style=\"color: #00af00; text-decoration-color: #00af00\">195</span> │ dropout_1[<span style=\"color: #00af00; text-decoration-color: #00af00\">0</span>][<span style=\"color: #00af00; text-decoration-color: #00af00\">0</span>]   │\n",
       "└─────────────────────┴───────────────────┴────────────┴───────────────────┘\n",
       "</pre>\n"
      ],
      "text/plain": [
       "┏━━━━━━━━━━━━━━━━━━━━━┳━━━━━━━━━━━━━━━━━━━┳━━━━━━━━━━━━┳━━━━━━━━━━━━━━━━━━━┓\n",
       "┃\u001b[1m \u001b[0m\u001b[1mLayer (type)       \u001b[0m\u001b[1m \u001b[0m┃\u001b[1m \u001b[0m\u001b[1mOutput Shape     \u001b[0m\u001b[1m \u001b[0m┃\u001b[1m \u001b[0m\u001b[1m   Param #\u001b[0m\u001b[1m \u001b[0m┃\u001b[1m \u001b[0m\u001b[1mConnected to     \u001b[0m\u001b[1m \u001b[0m┃\n",
       "┡━━━━━━━━━━━━━━━━━━━━━╇━━━━━━━━━━━━━━━━━━━╇━━━━━━━━━━━━╇━━━━━━━━━━━━━━━━━━━┩\n",
       "│ audio_input         │ (\u001b[38;5;45mNone\u001b[0m, \u001b[38;5;34m40\u001b[0m, \u001b[38;5;34m200\u001b[0m,   │          \u001b[38;5;34m0\u001b[0m │ -                 │\n",
       "│ (\u001b[38;5;33mInputLayer\u001b[0m)        │ \u001b[38;5;34m1\u001b[0m)                │            │                   │\n",
       "├─────────────────────┼───────────────────┼────────────┼───────────────────┤\n",
       "│ conv2d (\u001b[38;5;33mConv2D\u001b[0m)     │ (\u001b[38;5;45mNone\u001b[0m, \u001b[38;5;34m38\u001b[0m, \u001b[38;5;34m198\u001b[0m,   │        \u001b[38;5;34m160\u001b[0m │ audio_input[\u001b[38;5;34m0\u001b[0m][\u001b[38;5;34m0\u001b[0m] │\n",
       "│                     │ \u001b[38;5;34m16\u001b[0m)               │            │                   │\n",
       "├─────────────────────┼───────────────────┼────────────┼───────────────────┤\n",
       "│ max_pooling2d       │ (\u001b[38;5;45mNone\u001b[0m, \u001b[38;5;34m19\u001b[0m, \u001b[38;5;34m99\u001b[0m,    │          \u001b[38;5;34m0\u001b[0m │ conv2d[\u001b[38;5;34m0\u001b[0m][\u001b[38;5;34m0\u001b[0m]      │\n",
       "│ (\u001b[38;5;33mMaxPooling2D\u001b[0m)      │ \u001b[38;5;34m16\u001b[0m)               │            │                   │\n",
       "├─────────────────────┼───────────────────┼────────────┼───────────────────┤\n",
       "│ conv2d_1 (\u001b[38;5;33mConv2D\u001b[0m)   │ (\u001b[38;5;45mNone\u001b[0m, \u001b[38;5;34m17\u001b[0m, \u001b[38;5;34m97\u001b[0m,    │      \u001b[38;5;34m4,640\u001b[0m │ max_pooling2d[\u001b[38;5;34m0\u001b[0m]… │\n",
       "│                     │ \u001b[38;5;34m32\u001b[0m)               │            │                   │\n",
       "├─────────────────────┼───────────────────┼────────────┼───────────────────┤\n",
       "│ text_input          │ (\u001b[38;5;45mNone\u001b[0m, \u001b[38;5;34m768\u001b[0m)       │          \u001b[38;5;34m0\u001b[0m │ -                 │\n",
       "│ (\u001b[38;5;33mInputLayer\u001b[0m)        │                   │            │                   │\n",
       "├─────────────────────┼───────────────────┼────────────┼───────────────────┤\n",
       "│ max_pooling2d_1     │ (\u001b[38;5;45mNone\u001b[0m, \u001b[38;5;34m8\u001b[0m, \u001b[38;5;34m48\u001b[0m, \u001b[38;5;34m32\u001b[0m) │          \u001b[38;5;34m0\u001b[0m │ conv2d_1[\u001b[38;5;34m0\u001b[0m][\u001b[38;5;34m0\u001b[0m]    │\n",
       "│ (\u001b[38;5;33mMaxPooling2D\u001b[0m)      │                   │            │                   │\n",
       "├─────────────────────┼───────────────────┼────────────┼───────────────────┤\n",
       "│ dense (\u001b[38;5;33mDense\u001b[0m)       │ (\u001b[38;5;45mNone\u001b[0m, \u001b[38;5;34m128\u001b[0m)       │     \u001b[38;5;34m98,432\u001b[0m │ text_input[\u001b[38;5;34m0\u001b[0m][\u001b[38;5;34m0\u001b[0m]  │\n",
       "├─────────────────────┼───────────────────┼────────────┼───────────────────┤\n",
       "│ flatten (\u001b[38;5;33mFlatten\u001b[0m)   │ (\u001b[38;5;45mNone\u001b[0m, \u001b[38;5;34m12288\u001b[0m)     │          \u001b[38;5;34m0\u001b[0m │ max_pooling2d_1[\u001b[38;5;34m…\u001b[0m │\n",
       "├─────────────────────┼───────────────────┼────────────┼───────────────────┤\n",
       "│ dropout (\u001b[38;5;33mDropout\u001b[0m)   │ (\u001b[38;5;45mNone\u001b[0m, \u001b[38;5;34m128\u001b[0m)       │          \u001b[38;5;34m0\u001b[0m │ dense[\u001b[38;5;34m0\u001b[0m][\u001b[38;5;34m0\u001b[0m]       │\n",
       "├─────────────────────┼───────────────────┼────────────┼───────────────────┤\n",
       "│ concatenate         │ (\u001b[38;5;45mNone\u001b[0m, \u001b[38;5;34m12416\u001b[0m)     │          \u001b[38;5;34m0\u001b[0m │ flatten[\u001b[38;5;34m0\u001b[0m][\u001b[38;5;34m0\u001b[0m],    │\n",
       "│ (\u001b[38;5;33mConcatenate\u001b[0m)       │                   │            │ dropout[\u001b[38;5;34m0\u001b[0m][\u001b[38;5;34m0\u001b[0m]     │\n",
       "├─────────────────────┼───────────────────┼────────────┼───────────────────┤\n",
       "│ dense_1 (\u001b[38;5;33mDense\u001b[0m)     │ (\u001b[38;5;45mNone\u001b[0m, \u001b[38;5;34m64\u001b[0m)        │    \u001b[38;5;34m794,688\u001b[0m │ concatenate[\u001b[38;5;34m0\u001b[0m][\u001b[38;5;34m0\u001b[0m] │\n",
       "├─────────────────────┼───────────────────┼────────────┼───────────────────┤\n",
       "│ dropout_1 (\u001b[38;5;33mDropout\u001b[0m) │ (\u001b[38;5;45mNone\u001b[0m, \u001b[38;5;34m64\u001b[0m)        │          \u001b[38;5;34m0\u001b[0m │ dense_1[\u001b[38;5;34m0\u001b[0m][\u001b[38;5;34m0\u001b[0m]     │\n",
       "├─────────────────────┼───────────────────┼────────────┼───────────────────┤\n",
       "│ dense_2 (\u001b[38;5;33mDense\u001b[0m)     │ (\u001b[38;5;45mNone\u001b[0m, \u001b[38;5;34m3\u001b[0m)         │        \u001b[38;5;34m195\u001b[0m │ dropout_1[\u001b[38;5;34m0\u001b[0m][\u001b[38;5;34m0\u001b[0m]   │\n",
       "└─────────────────────┴───────────────────┴────────────┴───────────────────┘\n"
      ]
     },
     "metadata": {},
     "output_type": "display_data"
    },
    {
     "data": {
      "text/html": [
       "<pre style=\"white-space:pre;overflow-x:auto;line-height:normal;font-family:Menlo,'DejaVu Sans Mono',consolas,'Courier New',monospace\"><span style=\"font-weight: bold\"> Total params: </span><span style=\"color: #00af00; text-decoration-color: #00af00\">898,115</span> (3.43 MB)\n",
       "</pre>\n"
      ],
      "text/plain": [
       "\u001b[1m Total params: \u001b[0m\u001b[38;5;34m898,115\u001b[0m (3.43 MB)\n"
      ]
     },
     "metadata": {},
     "output_type": "display_data"
    },
    {
     "data": {
      "text/html": [
       "<pre style=\"white-space:pre;overflow-x:auto;line-height:normal;font-family:Menlo,'DejaVu Sans Mono',consolas,'Courier New',monospace\"><span style=\"font-weight: bold\"> Trainable params: </span><span style=\"color: #00af00; text-decoration-color: #00af00\">898,115</span> (3.43 MB)\n",
       "</pre>\n"
      ],
      "text/plain": [
       "\u001b[1m Trainable params: \u001b[0m\u001b[38;5;34m898,115\u001b[0m (3.43 MB)\n"
      ]
     },
     "metadata": {},
     "output_type": "display_data"
    },
    {
     "data": {
      "text/html": [
       "<pre style=\"white-space:pre;overflow-x:auto;line-height:normal;font-family:Menlo,'DejaVu Sans Mono',consolas,'Courier New',monospace\"><span style=\"font-weight: bold\"> Non-trainable params: </span><span style=\"color: #00af00; text-decoration-color: #00af00\">0</span> (0.00 B)\n",
       "</pre>\n"
      ],
      "text/plain": [
       "\u001b[1m Non-trainable params: \u001b[0m\u001b[38;5;34m0\u001b[0m (0.00 B)\n"
      ]
     },
     "metadata": {},
     "output_type": "display_data"
    }
   ],
   "source": [
    "##########################################\n",
    "#  STEP 5. BUILD THE CNN MODEL           #\n",
    "##########################################\n",
    "num_classes = 3\n",
    "audio_input = Input(shape=(N_MFCC, FIXED_FRAMES, 1), name=\"audio_input\")\n",
    "audio_model = layers.Conv2D(16, (3, 3), activation='relu')(audio_input)\n",
    "audio_model = layers.MaxPooling2D((2, 2))(audio_model)\n",
    "audio_model = layers.Conv2D(32, (3, 3), activation='relu')(audio_model)\n",
    "audio_model = layers.MaxPooling2D((2, 2))(audio_model)\n",
    "audio_model = layers.Flatten()(audio_model)\n",
    "\n",
    "text_input = Input(shape=(768,), name=\"text_input\")\n",
    "text_model = layers.Dense(128, activation='relu')(text_input)\n",
    "text_model = layers.Dropout(0.3)(text_model)\n",
    "\n",
    "fusion = layers.Concatenate()([audio_model, text_model])\n",
    "fusion = layers.Dense(64, activation='relu')(fusion)\n",
    "fusion = layers.Dropout(0.3)(fusion)\n",
    "output = layers.Dense(num_classes, activation='softmax')(fusion)\n",
    "\n",
    "model = models.Model(inputs=[audio_input, text_input], outputs=output)\n",
    "model.compile(optimizer='adam', loss='categorical_crossentropy', metrics=['accuracy'])\n",
    "model.summary()"
   ]
  },
  {
   "cell_type": "code",
   "execution_count": 7,
   "metadata": {},
   "outputs": [],
   "source": [
    "num_classes = 3\n",
    "y_train_one_hot = to_categorical(y_train, num_classes=num_classes)\n",
    "y_val_one_hot = to_categorical(y_val, num_classes=num_classes)\n",
    "y_test_one_hot = to_categorical(y_test, num_classes=num_classes)"
   ]
  },
  {
   "cell_type": "code",
   "execution_count": 8,
   "metadata": {},
   "outputs": [
    {
     "name": "stdout",
     "output_type": "stream",
     "text": [
      "Epoch 1/50\n",
      "\u001b[1m36/36\u001b[0m \u001b[32m━━━━━━━━━━━━━━━━━━━━\u001b[0m\u001b[37m\u001b[0m \u001b[1m1s\u001b[0m 22ms/step - accuracy: 0.3734 - loss: 19.8580 - val_accuracy: 0.5070 - val_loss: 1.0390\n",
      "Epoch 2/50\n",
      "\u001b[1m36/36\u001b[0m \u001b[32m━━━━━━━━━━━━━━━━━━━━\u001b[0m\u001b[37m\u001b[0m \u001b[1m1s\u001b[0m 19ms/step - accuracy: 0.4721 - loss: 1.0057 - val_accuracy: 0.5141 - val_loss: 1.0107\n",
      "Epoch 3/50\n",
      "\u001b[1m36/36\u001b[0m \u001b[32m━━━━━━━━━━━━━━━━━━━━\u001b[0m\u001b[37m\u001b[0m \u001b[1m1s\u001b[0m 19ms/step - accuracy: 0.5005 - loss: 0.9605 - val_accuracy: 0.5282 - val_loss: 0.9905\n",
      "Epoch 4/50\n",
      "\u001b[1m36/36\u001b[0m \u001b[32m━━━━━━━━━━━━━━━━━━━━\u001b[0m\u001b[37m\u001b[0m \u001b[1m1s\u001b[0m 20ms/step - accuracy: 0.5166 - loss: 0.9257 - val_accuracy: 0.4718 - val_loss: 0.9935\n",
      "Epoch 5/50\n",
      "\u001b[1m36/36\u001b[0m \u001b[32m━━━━━━━━━━━━━━━━━━━━\u001b[0m\u001b[37m\u001b[0m \u001b[1m1s\u001b[0m 19ms/step - accuracy: 0.5310 - loss: 0.8845 - val_accuracy: 0.5423 - val_loss: 0.9214\n",
      "Epoch 6/50\n",
      "\u001b[1m36/36\u001b[0m \u001b[32m━━━━━━━━━━━━━━━━━━━━\u001b[0m\u001b[37m\u001b[0m \u001b[1m1s\u001b[0m 19ms/step - accuracy: 0.5651 - loss: 0.8580 - val_accuracy: 0.5423 - val_loss: 0.9804\n",
      "Epoch 7/50\n",
      "\u001b[1m36/36\u001b[0m \u001b[32m━━━━━━━━━━━━━━━━━━━━\u001b[0m\u001b[37m\u001b[0m \u001b[1m1s\u001b[0m 20ms/step - accuracy: 0.5991 - loss: 0.7805 - val_accuracy: 0.5775 - val_loss: 0.8903\n",
      "Epoch 8/50\n",
      "\u001b[1m36/36\u001b[0m \u001b[32m━━━━━━━━━━━━━━━━━━━━\u001b[0m\u001b[37m\u001b[0m \u001b[1m1s\u001b[0m 19ms/step - accuracy: 0.6338 - loss: 0.7078 - val_accuracy: 0.5704 - val_loss: 0.8930\n",
      "Epoch 9/50\n",
      "\u001b[1m36/36\u001b[0m \u001b[32m━━━━━━━━━━━━━━━━━━━━\u001b[0m\u001b[37m\u001b[0m \u001b[1m1s\u001b[0m 19ms/step - accuracy: 0.6547 - loss: 0.7028 - val_accuracy: 0.5986 - val_loss: 0.8580\n",
      "Epoch 10/50\n",
      "\u001b[1m36/36\u001b[0m \u001b[32m━━━━━━━━━━━━━━━━━━━━\u001b[0m\u001b[37m\u001b[0m \u001b[1m1s\u001b[0m 20ms/step - accuracy: 0.6771 - loss: 0.6209 - val_accuracy: 0.6901 - val_loss: 0.8326\n",
      "Epoch 11/50\n",
      "\u001b[1m36/36\u001b[0m \u001b[32m━━━━━━━━━━━━━━━━━━━━\u001b[0m\u001b[37m\u001b[0m \u001b[1m1s\u001b[0m 19ms/step - accuracy: 0.7308 - loss: 0.5826 - val_accuracy: 0.5775 - val_loss: 0.8863\n",
      "Epoch 12/50\n",
      "\u001b[1m36/36\u001b[0m \u001b[32m━━━━━━━━━━━━━━━━━━━━\u001b[0m\u001b[37m\u001b[0m \u001b[1m1s\u001b[0m 19ms/step - accuracy: 0.7129 - loss: 0.5632 - val_accuracy: 0.6338 - val_loss: 0.9477\n",
      "Epoch 13/50\n",
      "\u001b[1m36/36\u001b[0m \u001b[32m━━━━━━━━━━━━━━━━━━━━\u001b[0m\u001b[37m\u001b[0m \u001b[1m1s\u001b[0m 19ms/step - accuracy: 0.7343 - loss: 0.5489 - val_accuracy: 0.6338 - val_loss: 0.8789\n",
      "Epoch 14/50\n",
      "\u001b[1m36/36\u001b[0m \u001b[32m━━━━━━━━━━━━━━━━━━━━\u001b[0m\u001b[37m\u001b[0m \u001b[1m1s\u001b[0m 19ms/step - accuracy: 0.7712 - loss: 0.4794 - val_accuracy: 0.6972 - val_loss: 0.8422\n",
      "Epoch 15/50\n",
      "\u001b[1m36/36\u001b[0m \u001b[32m━━━━━━━━━━━━━━━━━━━━\u001b[0m\u001b[37m\u001b[0m \u001b[1m1s\u001b[0m 19ms/step - accuracy: 0.7849 - loss: 0.4551 - val_accuracy: 0.6549 - val_loss: 1.0021\n"
     ]
    }
   ],
   "source": [
    "##########################################\n",
    "#  STEP 6. TRAIN THE MODEL               #\n",
    "##########################################\n",
    "EPOCHS = 50     # adjust as needed\n",
    "BATCH_SIZE = 32\n",
    "\n",
    "# Define the early stopping callback\n",
    "early_stopping = EarlyStopping(\n",
    "    monitor='val_loss',      # Metric to monitor (e.g., validation loss)\n",
    "    patience=5,              # Number of epochs to wait before stopping\n",
    "    restore_best_weights=True # Restore the best weights\n",
    ")\n",
    "\n",
    "# Train the model with early stopping\n",
    "history = model.fit(\n",
    "    [X_train_audio, X_train_text], y_train_one_hot,\n",
    "    validation_data=([X_val_audio, X_val_text], y_val_one_hot),\n",
    "    epochs=EPOCHS,\n",
    "    batch_size=BATCH_SIZE,\n",
    "    callbacks=[early_stopping]  # Add the early stopping callback here\n",
    ")"
   ]
  },
  {
   "cell_type": "code",
   "execution_count": 9,
   "metadata": {},
   "outputs": [
    {
     "name": "stdout",
     "output_type": "stream",
     "text": [
      "Test Loss: 0.8599 | Test Accuracy: 0.6479\n",
      "\u001b[1m5/5\u001b[0m \u001b[32m━━━━━━━━━━━━━━━━━━━━\u001b[0m\u001b[37m\u001b[0m \u001b[1m0s\u001b[0m 11ms/step\n",
      "\n",
      "Classification Report:\n",
      "              precision    recall  f1-score   support\n",
      "\n",
      "   No Stress       0.63      0.75      0.68        67\n",
      "  Low Stress       0.69      0.68      0.68        37\n",
      " High Stress       0.63      0.45      0.52        38\n",
      "\n",
      "    accuracy                           0.65       142\n",
      "   macro avg       0.65      0.62      0.63       142\n",
      "weighted avg       0.65      0.65      0.64       142\n",
      "\n",
      "Confusion Matrix:\n",
      "[[50  9  8]\n",
      " [10 25  2]\n",
      " [19  2 17]]\n"
     ]
    }
   ],
   "source": [
    "##########################################\n",
    "#  STEP 7. EVALUATION & METRICS          #\n",
    "##########################################\n",
    "test_loss, test_acc = model.evaluate([X_test_audio, X_test_text], y_test_one_hot, verbose=0)\n",
    "print(f\"Test Loss: {test_loss:.4f} | Test Accuracy: {test_acc:.4f}\")\n",
    "\n",
    "y_pred_proba = model.predict([X_test_audio, X_test_text])\n",
    "y_pred = np.argmax(y_pred_proba, axis=1)\n",
    "\n",
    "print(\"\\nClassification Report:\")\n",
    "print(classification_report(y_test, y_pred, target_names=['No Stress', 'Low Stress','High Stress']))\n",
    "\n",
    "print(\"Confusion Matrix:\")\n",
    "print(confusion_matrix(y_test, y_pred))"
   ]
  },
  {
   "cell_type": "code",
   "execution_count": 10,
   "metadata": {},
   "outputs": [
    {
     "name": "stdout",
     "output_type": "stream",
     "text": [
      "Test Loss: 0.8599, Test Accuracy: 64.79%\n"
     ]
    }
   ],
   "source": [
    "# ---------------------------\n",
    "# 7. Evaluate\n",
    "# ---------------------------\n",
    "loss, acc = model.evaluate([X_test_audio, X_test_text], y_test_one_hot, verbose=0)\n",
    "print(f\"Test Loss: {loss:.4f}, Test Accuracy: {acc*100:.2f}%\")\n"
   ]
  },
  {
   "cell_type": "code",
   "execution_count": 11,
   "metadata": {},
   "outputs": [
    {
     "name": "stdout",
     "output_type": "stream",
     "text": [
      "Training SVM...\n",
      "Evaluating SVM...\n",
      "SVM Classification Report:\n",
      "              precision    recall  f1-score   support\n",
      "\n",
      "           0       0.56      0.99      0.72        67\n",
      "           1       0.79      0.51      0.62        37\n",
      "           2       1.00      0.03      0.05        38\n",
      "\n",
      "    accuracy                           0.61       142\n",
      "   macro avg       0.79      0.51      0.46       142\n",
      "weighted avg       0.74      0.61      0.51       142\n",
      "\n",
      "SVM Confusion Matrix:\n",
      "[[66  1  0]\n",
      " [18 19  0]\n",
      " [33  4  1]]\n",
      "SVM Accuracy: 0.6056\n",
      "SVM F1 Score: 0.5145\n",
      "Training Random Forest...\n",
      "Evaluating Random Forest...\n",
      "Random Forest Classification Report:\n",
      "              precision    recall  f1-score   support\n",
      "\n",
      "           0       0.64      0.91      0.75        67\n",
      "           1       0.73      0.65      0.69        37\n",
      "           2       0.62      0.21      0.31        38\n",
      "\n",
      "    accuracy                           0.65       142\n",
      "   macro avg       0.66      0.59      0.58       142\n",
      "weighted avg       0.65      0.65      0.62       142\n",
      "\n",
      "Random Forest Confusion Matrix:\n",
      "[[61  3  3]\n",
      " [11 24  2]\n",
      " [24  6  8]]\n",
      "Random Forest Accuracy: 0.6549\n",
      "Random Forest F1 Score: 0.6158\n"
     ]
    }
   ],
   "source": [
    "# Flatten MFCC for SVM and Random Forest\n",
    "def prepare_flat_features(X_audio, X_text):\n",
    "    X_audio_flat = X_audio.reshape(X_audio.shape[0], -1)  # Flatten MFCC\n",
    "    X_combined = np.concatenate((X_audio_flat, X_text), axis=1)  # Combine audio and text features\n",
    "    return X_combined\n",
    "\n",
    "# Prepare train, validation, and test data\n",
    "X_train_combined = prepare_flat_features(X_train_audio, X_train_text)\n",
    "X_val_combined = prepare_flat_features(X_val_audio, X_val_text)\n",
    "X_test_combined = prepare_flat_features(X_test_audio, X_test_text)\n",
    "\n",
    "# Train and evaluate SVM\n",
    "print(\"Training SVM...\")\n",
    "svm_model = SVC(kernel='rbf', C=1.0, random_state=RANDOM_SEED)\n",
    "svm_model.fit(X_train_combined, y_train)\n",
    "\n",
    "print(\"Evaluating SVM...\")\n",
    "y_pred_svm = svm_model.predict(X_test_combined)\n",
    "print(\"SVM Classification Report:\")\n",
    "print(classification_report(y_test, y_pred_svm))\n",
    "print(\"SVM Confusion Matrix:\")\n",
    "print(confusion_matrix(y_test, y_pred_svm))\n",
    "print(f\"SVM Accuracy: {accuracy_score(y_test, y_pred_svm):.4f}\")\n",
    "print(f\"SVM F1 Score: {f1_score(y_test, y_pred_svm, average='weighted'):.4f}\")\n",
    "\n",
    "# Train and evaluate Random Forest\n",
    "print(\"Training Random Forest...\")\n",
    "rf_model = RandomForestClassifier(n_estimators=100, random_state=RANDOM_SEED)\n",
    "rf_model.fit(X_train_combined, y_train)\n",
    "\n",
    "print(\"Evaluating Random Forest...\")\n",
    "y_pred_rf = rf_model.predict(X_test_combined)\n",
    "print(\"Random Forest Classification Report:\")\n",
    "print(classification_report(y_test, y_pred_rf))\n",
    "print(\"Random Forest Confusion Matrix:\")\n",
    "print(confusion_matrix(y_test, y_pred_rf))\n",
    "print(f\"Random Forest Accuracy: {accuracy_score(y_test, y_pred_rf):.4f}\")\n",
    "print(f\"Random Forest F1 Score: {f1_score(y_test, y_pred_rf, average='weighted'):.4f}\")\n"
   ]
  },
  {
   "cell_type": "code",
   "execution_count": 12,
   "metadata": {},
   "outputs": [
    {
     "name": "stdout",
     "output_type": "stream",
     "text": [
      "\u001b[1m5/5\u001b[0m \u001b[32m━━━━━━━━━━━━━━━━━━━━\u001b[0m\u001b[37m\u001b[0m \u001b[1m0s\u001b[0m 8ms/step \n"
     ]
    },
    {
     "data": {
      "image/png": "[encoded data removed]",
      "text/plain": [
       "<Figure size 1200x800 with 1 Axes>"
      ]
     },
     "metadata": {},
     "output_type": "display_data"
    },
    {
     "data": {
      "image/png": "[encoded data removed]",
      "text/plain": [
       "<Figure size 1200x800 with 1 Axes>"
      ]
     },
     "metadata": {},
     "output_type": "display_data"
    },
    {
     "data": {
      "image/png": "[encoded data removed]",
      "text/plain": [
       "<Figure size 1800x600 with 6 Axes>"
      ]
     },
     "metadata": {},
     "output_type": "display_data"
    }
   ],
   "source": [
    "# Rerunning the evaluation and plotting\n",
    "cnn_predictions = np.argmax(model.predict([X_test_audio, X_test_text]), axis=1)\n",
    "\n",
    "# Recalculating metrics for CNN\n",
    "cnn_accuracy = accuracy_score(y_test, cnn_predictions) * 100\n",
    "cnn_f1_score = f1_score(y_test, cnn_predictions, average='weighted') * 100\n",
    "cnn_conf_matrix = confusion_matrix(y_test, cnn_predictions)\n",
    "\n",
    "# SVM and Random Forest metrics are already available\n",
    "svm_accuracy = accuracy_score(y_test, y_pred_svm) * 100\n",
    "svm_f1_score = f1_score(y_test, y_pred_svm, average='weighted') * 100\n",
    "svm_conf_matrix = confusion_matrix(y_test, y_pred_svm)\n",
    "\n",
    "rf_accuracy = accuracy_score(y_test, y_pred_rf) * 100\n",
    "rf_f1_score = f1_score(y_test, y_pred_rf, average='weighted') * 100\n",
    "rf_conf_matrix = confusion_matrix(y_test, y_pred_rf)\n",
    "\n",
    "# Data for plotting\n",
    "models = ['CNN', 'SVM', 'Random Forest']\n",
    "accuracy = [cnn_accuracy, svm_accuracy, rf_accuracy]\n",
    "f1_scores = [cnn_f1_score, svm_f1_score, rf_f1_score]\n",
    "conf_matrices = [cnn_conf_matrix, svm_conf_matrix, rf_conf_matrix]\n",
    "\n",
    "# Plot 1: Accuracy comparison\n",
    "plt.figure(figsize=(12, 8))\n",
    "plt.bar(models, accuracy, color=['blue', 'green', 'orange'], alpha=0.7)\n",
    "plt.xlabel('Model', fontsize=14)\n",
    "plt.ylabel('Accuracy (%)', fontsize=14)\n",
    "plt.title('Model Accuracy Comparison', fontsize=16)\n",
    "plt.grid(axis='y', linestyle='--', alpha=0.6)\n",
    "plt.show()\n",
    "\n",
    "# Plot 2: F1-Score comparison\n",
    "plt.figure(figsize=(12, 8))\n",
    "plt.bar(models, f1_scores, color=['blue', 'green', 'orange'], alpha=0.7)\n",
    "plt.xlabel('Model', fontsize=14)\n",
    "plt.ylabel('F1-Score (%)', fontsize=14)\n",
    "plt.title('Model F1-Score Comparison', fontsize=16)\n",
    "plt.grid(axis='y', linestyle='--', alpha=0.6)\n",
    "plt.show()\n",
    "\n",
    "# Plot 3: Confusion matrices\n",
    "fig, axes = plt.subplots(1, 3, figsize=(18, 6))\n",
    "titles = ['CNN Confusion Matrix', 'SVM Confusion Matrix', 'Random Forest Confusion Matrix']\n",
    "for i, ax in enumerate(axes):\n",
    "    cax = ax.matshow(conf_matrices[i], cmap='coolwarm', alpha=0.8)\n",
    "    fig.colorbar(cax, ax=ax)\n",
    "    ax.set_title(titles[i], pad=20, fontsize=14)\n",
    "    ax.set_xlabel('Predicted', fontsize=12)\n",
    "    ax.set_ylabel('True', fontsize=12)\n",
    "    ax.set_xticks(range(num_classes))\n",
    "    ax.set_yticks(range(num_classes))\n",
    "plt.tight_layout()\n",
    "plt.show()\n"
   ]
  },
  {
   "cell_type": "code",
   "execution_count": 14,
   "metadata": {},
   "outputs": [
    {
     "name": "stderr",
     "output_type": "stream",
     "text": [
      "WARNING:absl:You are saving your model as an HDF5 file via `model.save()` or `keras.saving.save_model(model)`. This file format is considered legacy. We recommend using instead the native Keras format, e.g. `model.save('my_model.keras')` or `keras.saving.save_model(model, 'my_model.keras')`. \n"
     ]
    },
    {
     "name": "stdout",
     "output_type": "stream",
     "text": [
      "Model saved as stress_detector_cnn.h5\n"
     ]
    }
   ],
   "source": [
    "##########################################\n",
    "#  STEP 8. SAVE THE MODEL                #\n",
    "##########################################\n",
    "model.save(\"stress_detector_cnn.h5\")\n",
    "print(\"Model saved as stress_detector_cnn.h5\")\n",
    "# Optionally, you can also do:\n",
    "# joblib.dump(model, \"stress_detector_cnn.pkl\") \n",
    "\n",
    "pickle.dump(model,open('model.pkl','wb'))"
   ]
  }
 ],
 "metadata": {
  "kernelspec": {
   "display_name": "venv",
   "language": "python",
   "name": "python3"
  },
  "language_info": {
   "codemirror_mode": {
    "name": "ipython",
    "version": 3
   },
   "file_extension": ".py",
   "mimetype": "text/x-python",
   "name": "python",
   "nbconvert_exporter": "python",
   "pygments_lexer": "ipython3",
   "version": "3.9.6"
  }
 },
 "nbformat": 4,
 "nbformat_minor": 2
}
